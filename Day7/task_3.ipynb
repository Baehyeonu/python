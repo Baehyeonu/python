{
 "cells": [
  {
   "cell_type": "markdown",
   "metadata": {},
   "source": [
    "사용자로부터 여러 개의 숫자를 입력받아 리스트에 저장한 후, 사용자가 'done'이라고 입력할 때까지 계속 입력받으세요. \n",
    "\n",
    "- 입력 중 숫자가 아닌 값이 입력되면 ValueError를 처리\n",
    "- 숫자 외 값이 입력된 경우 어떤 값이 잘못 입력되었는지 사용자에게 알려주는 문구 출력<br>\n",
    "  (예: f\"잘못된 값: {변수}. 숫자를 입력해주세요.\")\n",
    "\n"
   ]
  },
  {
   "cell_type": "code",
   "execution_count": 2,
   "metadata": {},
   "outputs": [
    {
     "name": "stdout",
     "output_type": "stream",
     "text": [
      "잘못된 값: asd. 숫자를 입력해주세요.\n",
      "잘못된 값: zxc. 숫자를 입력해주세요.\n",
      "입력 하신 값은[123] 입니다.\n",
      "입력 하신 값은[567] 입니다.\n",
      "잘못된 값: cvb. 숫자를 입력해주세요.\n",
      "입력 하신 값은[123] 입니다.\n",
      "입력 하신 값은[123] 입니다.\n",
      "입력 하신 값은[123] 입니다.\n",
      "입력 하신 값은[678] 입니다.\n",
      "입력 하신 값은[1] 입니다.\n",
      "입력 하신 값은[4] 입니다.\n",
      "입력 하신 값은[5] 입니다.\n"
     ]
    }
   ],
   "source": [
    "while True: #while를 써서 여러개의 숫자를 입력받습니다.\n",
    "        input_numbers = input(\"숫자를 입력해 주세요\")\n",
    "        if input_numbers == 'done': #입력값에 done을 입력하면 입력창 종류\n",
    "            break\n",
    "        try:\n",
    "            numbers = list(map(int, input_numbers.split())) #위에 숫자를 입력받아 numbers에 int로 형변환\n",
    "            print(f'입력 하신 값은{numbers} 입니다.')\n",
    "        except ValueError:\n",
    "            print(f'잘못된 값: {input_numbers}. 숫자를 입력해주세요.')\n",
    "            continue"
   ]
  },
  {
   "cell_type": "markdown",
   "metadata": {},
   "source": []
  }
 ],
 "metadata": {
  "kernelspec": {
   "display_name": "Python 3",
   "language": "python",
   "name": "python3"
  },
  "language_info": {
   "codemirror_mode": {
    "name": "ipython",
    "version": 3
   },
   "file_extension": ".py",
   "mimetype": "text/x-python",
   "name": "python",
   "nbconvert_exporter": "python",
   "pygments_lexer": "ipython3",
   "version": "3.9.6"
  }
 },
 "nbformat": 4,
 "nbformat_minor": 2
}
