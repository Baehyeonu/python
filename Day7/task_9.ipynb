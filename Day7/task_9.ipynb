{
 "cells": [
  {
   "cell_type": "markdown",
   "metadata": {},
   "source": [
    "animals라는 패키지를 만들고, 이 패키지 내에 mammals, birds라는 두 개의 서브 모듈을 생성하세요. \n",
    "\n",
    "- 각 모듈에는 최소한 한 개 이상의 동물에 관한 클래스를 정의하세요<br>\n",
    "  (예: mammals에는 Dog, birds에는 Eagle)\n",
    "- 이 패키지와 모듈을 사용하여 동물들의 정보를 출력하는 프로그램을 작성\n",
    "\n",
    "폴더 및 파일 구조\n",
    "```\n",
    "animals/(폴더)\n",
    "├── __init__.py\n",
    "├── mammals.py\n",
    "└── birds.py\n",
    "```\n"
   ]
  },
  {
   "cell_type": "code",
   "execution_count": 1,
   "metadata": {},
   "outputs": [
    {
     "name": "stdout",
     "output_type": "stream",
     "text": [
      "강아지를 소개합니다\n",
      "이름 :, 별이\n",
      "나이 : 5살\n",
      "울음소리 : 멍멍\n",
      " \n",
      "새를 소개합니다\n",
      "이름 :, 짹짹\n",
      "나이 : 5살\n",
      "울음소리 : 까아악!\n"
     ]
    }
   ],
   "source": [
    "from animals.Mammals import mammals\n",
    "from animals.Birds import birds\n",
    "\n",
    "def infor():\n",
    "    dog = mammals('별이', 5, '멍멍')\n",
    "    eagle = birds('짹짹이', 5, '까아악!')\n",
    "    dog.infor()\n",
    "    print(\" \")\n",
    "    eagle.infor()\n",
    "\n",
    "infor() # 출력에 에러가 너무 많이 났음 TypeError: 'module' object is not callable, 이거 해결할려고 gpt좀 가져다 썼습니다."
   ]
  }
 ],
 "metadata": {
  "kernelspec": {
   "display_name": "Python 3",
   "language": "python",
   "name": "python3"
  },
  "language_info": {
   "codemirror_mode": {
    "name": "ipython",
    "version": 3
   },
   "file_extension": ".py",
   "mimetype": "text/x-python",
   "name": "python",
   "nbconvert_exporter": "python",
   "pygments_lexer": "ipython3",
   "version": "3.9.6"
  }
 },
 "nbformat": 4,
 "nbformat_minor": 2
}
