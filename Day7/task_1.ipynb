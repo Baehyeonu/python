{
 "cells": [
  {
   "cell_type": "markdown",
   "metadata": {},
   "source": [
    "사용자로부터 두 개의 숫자를 입력받아 나눗셈을 수행하는 프로그램을 작성하세요. \n",
    "\n",
    "[예외처리]\n",
    "- 입력 값이 숫자가 아닐 때 발생할 수 있는 ValueError\n",
    "- 나누는 수가 0일 때 발생할 수 있는 ZeroDivisionError\n",
    "- 위 2가지 예외처리 후 사용자에게 이해하기 쉬운 메시지 작성 후 출력되도록 코드를 작성"
   ]
  },
  {
   "cell_type": "code",
   "execution_count": 15,
   "metadata": {},
   "outputs": [
    {
     "name": "stdout",
     "output_type": "stream",
     "text": [
      "\"두 수의 나눈값은 (1, 0)\n"
     ]
    }
   ],
   "source": [
    "try: #try와, except문을 써서 해당하는 예외를 print()문을 써서 왜 안되는지 출력해준다.\n",
    "    x, y = map(int,input(\"2개의 숫자를 입력해 주세요\").split(\" \")) #사용자로 부터 2개의 숫자를 입력받아 x,y에 할당\n",
    "    print(f'\"두 수의 나눈값은 {(divmod(x,y))}') #divmod를 써서 몫과 나머지를 구함\n",
    "except ValueError: #숫자를 입력하지 않고 문자를 입력받았을때 나오는 에러\n",
    "    print(\"정확하게 두 수를 입력해 주세요.\")\n",
    "except ZeroDivisionError: #나누는 값이 0일때 나오는 에러\n",
    "    print(\"나누는 값이 0이면 나눌수가 없습니다.\")"
   ]
  }
 ],
 "metadata": {
  "kernelspec": {
   "display_name": "Python 3",
   "language": "python",
   "name": "python3"
  },
  "language_info": {
   "codemirror_mode": {
    "name": "ipython",
    "version": 3
   },
   "file_extension": ".py",
   "mimetype": "text/x-python",
   "name": "python",
   "nbconvert_exporter": "python",
   "pygments_lexer": "ipython3",
   "version": "3.9.6"
  }
 },
 "nbformat": 4,
 "nbformat_minor": 2
}
